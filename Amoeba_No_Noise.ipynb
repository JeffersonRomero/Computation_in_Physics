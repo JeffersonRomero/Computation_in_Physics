{
 "cells": [
  {
   "cell_type": "markdown",
   "id": "85e0a2ce",
   "metadata": {},
   "source": [
    "# Computación en Física - Mead-Nelder Method (Amoeba)\n",
    "# Student: Jefferson Alexander Romero Márquez\n",
    "# Date: 27/10/2024"
   ]
  },
  {
   "cell_type": "code",
   "execution_count": 1,
   "id": "435a7c85",
   "metadata": {},
   "outputs": [],
   "source": [
    "import pandas as pd # Importamos pandas para cargar el arhcivo que queremos"
   ]
  },
  {
   "cell_type": "markdown",
   "id": "3816ffe7",
   "metadata": {},
   "source": [
    "# Cargamos los datos sin ruido"
   ]
  },
  {
   "cell_type": "code",
   "execution_count": 2,
   "id": "3447bd73",
   "metadata": {},
   "outputs": [
    {
     "data": {
      "text/html": [
       "<div>\n",
       "<style scoped>\n",
       "    .dataframe tbody tr th:only-of-type {\n",
       "        vertical-align: middle;\n",
       "    }\n",
       "\n",
       "    .dataframe tbody tr th {\n",
       "        vertical-align: top;\n",
       "    }\n",
       "\n",
       "    .dataframe thead th {\n",
       "        text-align: right;\n",
       "    }\n",
       "</style>\n",
       "<table border=\"1\" class=\"dataframe\">\n",
       "  <thead>\n",
       "    <tr style=\"text-align: right;\">\n",
       "      <th></th>\n",
       "      <th>0</th>\n",
       "      <th>1</th>\n",
       "    </tr>\n",
       "  </thead>\n",
       "  <tbody>\n",
       "    <tr>\n",
       "      <th>0</th>\n",
       "      <td>1.000000e+00</td>\n",
       "      <td>1.683616e-28</td>\n",
       "    </tr>\n",
       "    <tr>\n",
       "      <th>1</th>\n",
       "      <td>1.001001e+12</td>\n",
       "      <td>1.680927e-04</td>\n",
       "    </tr>\n",
       "    <tr>\n",
       "      <th>2</th>\n",
       "      <td>2.002002e+12</td>\n",
       "      <td>6.670670e-04</td>\n",
       "    </tr>\n",
       "    <tr>\n",
       "      <th>3</th>\n",
       "      <td>3.003003e+12</td>\n",
       "      <td>1.489032e-03</td>\n",
       "    </tr>\n",
       "    <tr>\n",
       "      <th>4</th>\n",
       "      <td>4.004004e+12</td>\n",
       "      <td>2.626182e-03</td>\n",
       "    </tr>\n",
       "    <tr>\n",
       "      <th>...</th>\n",
       "      <td>...</td>\n",
       "      <td>...</td>\n",
       "    </tr>\n",
       "    <tr>\n",
       "      <th>995</th>\n",
       "      <td>9.959960e+14</td>\n",
       "      <td>1.066268e-03</td>\n",
       "    </tr>\n",
       "    <tr>\n",
       "      <th>996</th>\n",
       "      <td>9.969970e+14</td>\n",
       "      <td>1.054228e-03</td>\n",
       "    </tr>\n",
       "    <tr>\n",
       "      <th>997</th>\n",
       "      <td>9.979980e+14</td>\n",
       "      <td>1.042321e-03</td>\n",
       "    </tr>\n",
       "    <tr>\n",
       "      <th>998</th>\n",
       "      <td>9.989990e+14</td>\n",
       "      <td>1.030545e-03</td>\n",
       "    </tr>\n",
       "    <tr>\n",
       "      <th>999</th>\n",
       "      <td>1.000000e+15</td>\n",
       "      <td>1.018899e-03</td>\n",
       "    </tr>\n",
       "  </tbody>\n",
       "</table>\n",
       "<p>1000 rows × 2 columns</p>\n",
       "</div>"
      ],
      "text/plain": [
       "                0             1\n",
       "0    1.000000e+00  1.683616e-28\n",
       "1    1.001001e+12  1.680927e-04\n",
       "2    2.002002e+12  6.670670e-04\n",
       "3    3.003003e+12  1.489032e-03\n",
       "4    4.004004e+12  2.626182e-03\n",
       "..            ...           ...\n",
       "995  9.959960e+14  1.066268e-03\n",
       "996  9.969970e+14  1.054228e-03\n",
       "997  9.979980e+14  1.042321e-03\n",
       "998  9.989990e+14  1.030545e-03\n",
       "999  1.000000e+15  1.018899e-03\n",
       "\n",
       "[1000 rows x 2 columns]"
      ]
     },
     "execution_count": 2,
     "metadata": {},
     "output_type": "execute_result"
    }
   ],
   "source": [
    "# De esta forma cargamos los datos sin ruido del problema\n",
    "df1=pd.read_csv('Data_Planckian_noNoise.txt', header=None, sep=(' '))\n",
    "df1"
   ]
  },
  {
   "cell_type": "code",
   "execution_count": 3,
   "id": "6a0fe9e7",
   "metadata": {},
   "outputs": [],
   "source": [
    "import numpy as np # Importamos numpy para tratar los datos como arrays"
   ]
  },
  {
   "cell_type": "code",
   "execution_count": 4,
   "id": "21b586c6",
   "metadata": {},
   "outputs": [
    {
     "data": {
      "text/plain": [
       "array([[1.00000000e+00, 1.68361646e-28],\n",
       "       [1.00100100e+12, 1.68092691e-04],\n",
       "       [2.00200200e+12, 6.67067033e-04],\n",
       "       ...,\n",
       "       [9.97997998e+14, 1.04232065e-03],\n",
       "       [9.98998999e+14, 1.03054468e-03],\n",
       "       [1.00000000e+15, 1.01889880e-03]])"
      ]
     },
     "execution_count": 4,
     "metadata": {},
     "output_type": "execute_result"
    }
   ],
   "source": [
    "# Convertimos los datos cargados con pandas a arrays de numpy\n",
    "data=np.array(df1)\n",
    "data"
   ]
  },
  {
   "cell_type": "code",
   "execution_count": 5,
   "id": "fd3cfb1b",
   "metadata": {},
   "outputs": [
    {
     "data": {
      "text/plain": [
       "array([1.000000e+00, 1.001001e+12, 2.002002e+12, 3.003003e+12,\n",
       "       4.004004e+12])"
      ]
     },
     "execution_count": 5,
     "metadata": {},
     "output_type": "execute_result"
    }
   ],
   "source": [
    "# Definimos la variable frequency que serán los datos de la primera columna de DataFrame\n",
    "frequency=data[:,0]\n",
    "frequency[:5] # Muestra los 5 primero valores"
   ]
  },
  {
   "cell_type": "code",
   "execution_count": 6,
   "id": "b39b635f",
   "metadata": {},
   "outputs": [
    {
     "data": {
      "text/plain": [
       "array([1.68361646e-28, 1.68092691e-04, 6.67067033e-04, 1.48903192e-03,\n",
       "       2.62618224e-03])"
      ]
     },
     "execution_count": 6,
     "metadata": {},
     "output_type": "execute_result"
    }
   ],
   "source": [
    "# Hacemos lo mismo con la segunda columna del DataFrame\n",
    "intensity=data[:,1]\n",
    "intensity[:5]"
   ]
  },
  {
   "cell_type": "code",
   "execution_count": 7,
   "id": "78666094",
   "metadata": {},
   "outputs": [
    {
     "data": {
      "text/plain": [
       "array([1.68361646e-28, 1.68092691e-04, 6.67067033e-04, 1.48903192e-03,\n",
       "       2.62618224e-03, 4.07079879e-03, 5.81524832e-03, 7.85198341e-03,\n",
       "       1.01735424e-02, 1.27725494e-02, 1.56417141e-02, 1.87738317e-02,\n",
       "       2.21617829e-02, 2.57985336e-02, 2.96771348e-02, 3.37907227e-02,\n",
       "       3.81325181e-02, 4.26958267e-02, 4.74740386e-02, 5.24606282e-02,\n",
       "       5.76491540e-02, 6.30332584e-02, 6.86066675e-02, 7.43631909e-02,\n",
       "       8.02967211e-02, 8.64012338e-02, 9.26707873e-02, 9.90995222e-02,\n",
       "       1.05681661e-01, 1.12411509e-01, 1.19283451e-01, 1.26291956e-01,\n",
       "       1.33431570e-01, 1.40696922e-01, 1.48082722e-01, 1.55583757e-01,\n",
       "       1.63194895e-01, 1.70911083e-01, 1.78727347e-01, 1.86638790e-01,\n",
       "       1.94640595e-01, 2.02728019e-01, 2.10896400e-01, 2.19141150e-01,\n",
       "       2.27457758e-01, 2.35841788e-01, 2.44288880e-01, 2.52794748e-01,\n",
       "       2.61355183e-01, 2.69966045e-01, 2.78623272e-01, 2.87322873e-01,\n",
       "       2.96060928e-01, 3.04833591e-01, 3.13637087e-01, 3.22467710e-01,\n",
       "       3.31321827e-01, 3.40195873e-01, 3.49086352e-01, 3.57989839e-01,\n",
       "       3.66902974e-01, 3.75822467e-01, 3.84745093e-01, 3.93667696e-01,\n",
       "       4.02587185e-01, 4.11500532e-01, 4.20404777e-01, 4.29297022e-01,\n",
       "       4.38174435e-01, 4.47034244e-01, 4.55873741e-01, 4.64690280e-01,\n",
       "       4.73481275e-01, 4.82244204e-01, 4.90976600e-01, 4.99676058e-01,\n",
       "       5.08340234e-01, 5.16966837e-01, 5.25553639e-01, 5.34098464e-01,\n",
       "       5.42599197e-01, 5.51053774e-01, 5.59460191e-01, 5.67816494e-01,\n",
       "       5.76120786e-01, 5.84371221e-01, 5.92566008e-01, 6.00703405e-01,\n",
       "       6.08781723e-01, 6.16799324e-01, 6.24754620e-01, 6.32646071e-01,\n",
       "       6.40472187e-01, 6.48231527e-01, 6.55922696e-01, 6.63544345e-01,\n",
       "       6.71095175e-01, 6.78573929e-01, 6.85979397e-01, 6.93310412e-01,\n",
       "       7.00565853e-01, 7.07744640e-01, 7.14845736e-01, 7.21868146e-01,\n",
       "       7.28810918e-01, 7.35673138e-01, 7.42453935e-01, 7.49152473e-01,\n",
       "       7.55767960e-01, 7.62299640e-01, 7.68746793e-01, 7.75108738e-01,\n",
       "       7.81384832e-01, 7.87574463e-01, 7.93677060e-01, 7.99692082e-01,\n",
       "       8.05619025e-01, 8.11457417e-01, 8.17206820e-01, 8.22866827e-01,\n",
       "       8.28437063e-01, 8.33917187e-01, 8.39306885e-01, 8.44605874e-01,\n",
       "       8.49813901e-01, 8.54930744e-01, 8.59956205e-01, 8.64890117e-01,\n",
       "       8.69732340e-01, 8.74482761e-01, 8.79141291e-01, 8.83707870e-01,\n",
       "       8.88182460e-01, 8.92565051e-01, 8.96855654e-01, 9.01054306e-01,\n",
       "       9.05161066e-01, 9.09176015e-01, 9.13099259e-01, 9.16930923e-01,\n",
       "       9.20671154e-01, 9.24320118e-01, 9.27878005e-01, 9.31345022e-01,\n",
       "       9.34721395e-01, 9.38007371e-01, 9.41203213e-01, 9.44309203e-01,\n",
       "       9.47325641e-01, 9.50252842e-01, 9.53091141e-01, 9.55840885e-01,\n",
       "       9.58502441e-01, 9.61076187e-01, 9.63562519e-01, 9.65961846e-01,\n",
       "       9.68274592e-01, 9.70501193e-01, 9.72642101e-01, 9.74697778e-01,\n",
       "       9.76668700e-01, 9.78555354e-01, 9.80358241e-01, 9.82077870e-01,\n",
       "       9.83714765e-01, 9.85269456e-01, 9.86742487e-01, 9.88134411e-01,\n",
       "       9.89445788e-01, 9.90677192e-01, 9.91829201e-01, 9.92902404e-01,\n",
       "       9.93897399e-01, 9.94814791e-01, 9.95655191e-01, 9.96419219e-01,\n",
       "       9.97107503e-01, 9.97720675e-01, 9.98259375e-01, 9.98724249e-01,\n",
       "       9.99115948e-01, 9.99435130e-01, 9.99682457e-01, 9.99858595e-01,\n",
       "       9.99964217e-01, 1.00000000e+00, 9.99966623e-01, 9.99864772e-01,\n",
       "       9.99695134e-01, 9.99458400e-01, 9.99155266e-01, 9.98786430e-01,\n",
       "       9.98352590e-01, 9.97854451e-01, 9.97292718e-01, 9.96668096e-01,\n",
       "       9.95981296e-01, 9.95233029e-01, 9.94424005e-01, 9.93554938e-01,\n",
       "       9.92626543e-01, 9.91639534e-01, 9.90594627e-01, 9.89492538e-01,\n",
       "       9.88333984e-01, 9.87119681e-01, 9.85850346e-01, 9.84526694e-01,\n",
       "       9.83149441e-01, 9.81719302e-01, 9.80236993e-01, 9.78703225e-01,\n",
       "       9.77118713e-01, 9.75484166e-01, 9.73800296e-01, 9.72067809e-01,\n",
       "       9.70287414e-01, 9.68459816e-01, 9.66585717e-01, 9.64665819e-01,\n",
       "       9.62700821e-01, 9.60691420e-01, 9.58638310e-01, 9.56542183e-01,\n",
       "       9.54403729e-01, 9.52223635e-01, 9.50002585e-01, 9.47741259e-01,\n",
       "       9.45440336e-01, 9.43100491e-01, 9.40722396e-01, 9.38306718e-01,\n",
       "       9.35854124e-01, 9.33365275e-01, 9.30840830e-01, 9.28281443e-01,\n",
       "       9.25687764e-01, 9.23060442e-01, 9.20400119e-01, 9.17707436e-01,\n",
       "       9.14983027e-01, 9.12227524e-01, 9.09441555e-01, 9.06625743e-01,\n",
       "       9.03780706e-01, 9.00907061e-01, 8.98005418e-01, 8.95076382e-01,\n",
       "       8.92120556e-01, 8.89138536e-01, 8.86130917e-01, 8.83098286e-01,\n",
       "       8.80041227e-01, 8.76960319e-01, 8.73856137e-01, 8.70729251e-01,\n",
       "       8.67580226e-01, 8.64409622e-01, 8.61217995e-01, 8.58005896e-01,\n",
       "       8.54773872e-01, 8.51522462e-01, 8.48252205e-01, 8.44963630e-01,\n",
       "       8.41657266e-01, 8.38333633e-01, 8.34993249e-01, 8.31636625e-01,\n",
       "       8.28264268e-01, 8.24876680e-01, 8.21474358e-01, 8.18057794e-01,\n",
       "       8.14627475e-01, 8.11183883e-01, 8.07727495e-01, 8.04258784e-01,\n",
       "       8.00778215e-01, 7.97286252e-01, 7.93783350e-01, 7.90269963e-01,\n",
       "       7.86746537e-01, 7.83213514e-01, 7.79671332e-01, 7.76120422e-01,\n",
       "       7.72561211e-01, 7.68994122e-01, 7.65419572e-01, 7.61837973e-01,\n",
       "       7.58249732e-01, 7.54655252e-01, 7.51054930e-01, 7.47449159e-01,\n",
       "       7.43838327e-01, 7.40222817e-01, 7.36603005e-01, 7.32979267e-01,\n",
       "       7.29351969e-01, 7.25721477e-01, 7.22088147e-01, 7.18452335e-01,\n",
       "       7.14814390e-01, 7.11174656e-01, 7.07533474e-01, 7.03891178e-01,\n",
       "       7.00248099e-01, 6.96604564e-01, 6.92960892e-01, 6.89317402e-01,\n",
       "       6.85674406e-01, 6.82032210e-01, 6.78391119e-01, 6.74751430e-01,\n",
       "       6.71113439e-01, 6.67477436e-01, 6.63843704e-01, 6.60212527e-01,\n",
       "       6.56584179e-01, 6.52958935e-01, 6.49337061e-01, 6.45718823e-01,\n",
       "       6.42104478e-01, 6.38494284e-01, 6.34888491e-01, 6.31287346e-01,\n",
       "       6.27691093e-01, 6.24099970e-01, 6.20514212e-01, 6.16934051e-01,\n",
       "       6.13359712e-01, 6.09791420e-01, 6.06229393e-01, 6.02673847e-01,\n",
       "       5.99124992e-01, 5.95583036e-01, 5.92048183e-01, 5.88520633e-01,\n",
       "       5.85000582e-01, 5.81488223e-01, 5.77983744e-01, 5.74487330e-01,\n",
       "       5.70999164e-01, 5.67519423e-01, 5.64048282e-01, 5.60585911e-01,\n",
       "       5.57132479e-01, 5.53688150e-01, 5.50253083e-01, 5.46827437e-01,\n",
       "       5.43411366e-01, 5.40005021e-01, 5.36608547e-01, 5.33222091e-01,\n",
       "       5.29845793e-01, 5.26479791e-01, 5.23124219e-01, 5.19779209e-01,\n",
       "       5.16444890e-01, 5.13121387e-01, 5.09808823e-01, 5.06507316e-01,\n",
       "       5.03216985e-01, 4.99937941e-01, 4.96670297e-01, 4.93414159e-01,\n",
       "       4.90169634e-01, 4.86936823e-01, 4.83715825e-01, 4.80506739e-01,\n",
       "       4.77309658e-01, 4.74124673e-01, 4.70951873e-01, 4.67791345e-01,\n",
       "       4.64643173e-01, 4.61507437e-01, 4.58384216e-01, 4.55273586e-01,\n",
       "       4.52175623e-01, 4.49090395e-01, 4.46017974e-01, 4.42958424e-01,\n",
       "       4.39911812e-01, 4.36878198e-01, 4.33857642e-01, 4.30850203e-01,\n",
       "       4.27855935e-01, 4.24874891e-01, 4.21907123e-01, 4.18952680e-01,\n",
       "       4.16011608e-01, 4.13083952e-01, 4.10169755e-01, 4.07269058e-01,\n",
       "       4.04381899e-01, 4.01508316e-01, 3.98648342e-01, 3.95802012e-01,\n",
       "       3.92969357e-01, 3.90150404e-01, 3.87345184e-01, 3.84553720e-01,\n",
       "       3.81776037e-01, 3.79012157e-01, 3.76262100e-01, 3.73525887e-01,\n",
       "       3.70803532e-01, 3.68095054e-01, 3.65400464e-01, 3.62719776e-01,\n",
       "       3.60053000e-01, 3.57400146e-01, 3.54761221e-01, 3.52136232e-01,\n",
       "       3.49525184e-01, 3.46928079e-01, 3.44344921e-01, 3.41775709e-01,\n",
       "       3.39220443e-01, 3.36679120e-01, 3.34151738e-01, 3.31638291e-01,\n",
       "       3.29138773e-01, 3.26653178e-01, 3.24181496e-01, 3.21723719e-01,\n",
       "       3.19279834e-01, 3.16849830e-01, 3.14433695e-01, 3.12031412e-01,\n",
       "       3.09642967e-01, 3.07268344e-01, 3.04907525e-01, 3.02560490e-01,\n",
       "       3.00227221e-01, 2.97907697e-01, 2.95601895e-01, 2.93309794e-01,\n",
       "       2.91031369e-01, 2.88766597e-01, 2.86515451e-01, 2.84277906e-01,\n",
       "       2.82053933e-01, 2.79843506e-01, 2.77646594e-01, 2.75463169e-01,\n",
       "       2.73293199e-01, 2.71136653e-01, 2.68993500e-01, 2.66863705e-01,\n",
       "       2.64747236e-01, 2.62644059e-01, 2.60554137e-01, 2.58477435e-01,\n",
       "       2.56413918e-01, 2.54363547e-01, 2.52326284e-01, 2.50302092e-01,\n",
       "       2.48290932e-01, 2.46292764e-01, 2.44307547e-01, 2.42335240e-01,\n",
       "       2.40375803e-01, 2.38429194e-01, 2.36495370e-01, 2.34574288e-01,\n",
       "       2.32665905e-01, 2.30770176e-01, 2.28887058e-01, 2.27016505e-01,\n",
       "       2.25158472e-01, 2.23312914e-01, 2.21479784e-01, 2.19659035e-01,\n",
       "       2.17850621e-01, 2.16054493e-01, 2.14270605e-01, 2.12498908e-01,\n",
       "       2.10739353e-01, 2.08991893e-01, 2.07256476e-01, 2.05533055e-01,\n",
       "       2.03821578e-01, 2.02121997e-01, 2.00434260e-01, 1.98758317e-01,\n",
       "       1.97094117e-01, 1.95441608e-01, 1.93800740e-01, 1.92171460e-01,\n",
       "       1.90553716e-01, 1.88947457e-01, 1.87352630e-01, 1.85769181e-01,\n",
       "       1.84197060e-01, 1.82636211e-01, 1.81086583e-01, 1.79548123e-01,\n",
       "       1.78020775e-01, 1.76504488e-01, 1.74999207e-01, 1.73504878e-01,\n",
       "       1.72021447e-01, 1.70548861e-01, 1.69087064e-01, 1.67636003e-01,\n",
       "       1.66195623e-01, 1.64765869e-01, 1.63346688e-01, 1.61938023e-01,\n",
       "       1.60539822e-01, 1.59152027e-01, 1.57774586e-01, 1.56407442e-01,\n",
       "       1.55050542e-01, 1.53703829e-01, 1.52367250e-01, 1.51040748e-01,\n",
       "       1.49724270e-01, 1.48417759e-01, 1.47121161e-01, 1.45834420e-01,\n",
       "       1.44557483e-01, 1.43290293e-01, 1.42032796e-01, 1.40784937e-01,\n",
       "       1.39546660e-01, 1.38317912e-01, 1.37098636e-01, 1.35888779e-01,\n",
       "       1.34688286e-01, 1.33497101e-01, 1.32315170e-01, 1.31142439e-01,\n",
       "       1.29978853e-01, 1.28824357e-01, 1.27678898e-01, 1.26542421e-01,\n",
       "       1.25414871e-01, 1.24296196e-01, 1.23186340e-01, 1.22085250e-01,\n",
       "       1.20992872e-01, 1.19909153e-01, 1.18834038e-01, 1.17767475e-01,\n",
       "       1.16709410e-01, 1.15659790e-01, 1.14618561e-01, 1.13585672e-01,\n",
       "       1.12561068e-01, 1.11544698e-01, 1.10536508e-01, 1.09536446e-01,\n",
       "       1.08544461e-01, 1.07560500e-01, 1.06584510e-01, 1.05616441e-01,\n",
       "       1.04656240e-01, 1.03703856e-01, 1.02759237e-01, 1.01822333e-01,\n",
       "       1.00893093e-01, 9.99714646e-02, 9.90573984e-02, 9.81508435e-02,\n",
       "       9.72517496e-02, 9.63600665e-02, 9.54757443e-02, 9.45987332e-02,\n",
       "       9.37289834e-02, 9.28664456e-02, 9.20110706e-02, 9.11628092e-02,\n",
       "       9.03216126e-02, 8.94874321e-02, 8.86602192e-02, 8.78399256e-02,\n",
       "       8.70265031e-02, 8.62199040e-02, 8.54200804e-02, 8.46269849e-02,\n",
       "       8.38405702e-02, 8.30607891e-02, 8.22875948e-02, 8.15209405e-02,\n",
       "       8.07607797e-02, 8.00070662e-02, 7.92597539e-02, 7.85187969e-02,\n",
       "       7.77841495e-02, 7.70557664e-02, 7.63336022e-02, 7.56176120e-02,\n",
       "       7.49077508e-02, 7.42039742e-02, 7.35062378e-02, 7.28144973e-02,\n",
       "       7.21287088e-02, 7.14488286e-02, 7.07748131e-02, 7.01066191e-02,\n",
       "       6.94442035e-02, 6.87875234e-02, 6.81365361e-02, 6.74911993e-02,\n",
       "       6.68514707e-02, 6.62173083e-02, 6.55886704e-02, 6.49655155e-02,\n",
       "       6.43478021e-02, 6.37354892e-02, 6.31285360e-02, 6.25269017e-02,\n",
       "       6.19305459e-02, 6.13394284e-02, 6.07535092e-02, 6.01727486e-02,\n",
       "       5.95971069e-02, 5.90265449e-02, 5.84610235e-02, 5.79005037e-02,\n",
       "       5.73449469e-02, 5.67943146e-02, 5.62485687e-02, 5.57076711e-02,\n",
       "       5.51715841e-02, 5.46402701e-02, 5.41136918e-02, 5.35918120e-02,\n",
       "       5.30745939e-02, 5.25620008e-02, 5.20539962e-02, 5.15505440e-02,\n",
       "       5.10516080e-02, 5.05571525e-02, 5.00671420e-02, 4.95815410e-02,\n",
       "       4.91003144e-02, 4.86234273e-02, 4.81508451e-02, 4.76825331e-02,\n",
       "       4.72184572e-02, 4.67585833e-02, 4.63028775e-02, 4.58513062e-02,\n",
       "       4.54038360e-02, 4.49604337e-02, 4.45210664e-02, 4.40857011e-02,\n",
       "       4.36543055e-02, 4.32268471e-02, 4.28032938e-02, 4.23836137e-02,\n",
       "       4.19677750e-02, 4.15557462e-02, 4.11474961e-02, 4.07429936e-02,\n",
       "       4.03422077e-02, 3.99451078e-02, 3.95516634e-02, 3.91618442e-02,\n",
       "       3.87756202e-02, 3.83929615e-02, 3.80138385e-02, 3.76382217e-02,\n",
       "       3.72660818e-02, 3.68973898e-02, 3.65321169e-02, 3.61702344e-02,\n",
       "       3.58117137e-02, 3.54565268e-02, 3.51046455e-02, 3.47560419e-02,\n",
       "       3.44106884e-02, 3.40685575e-02, 3.37296219e-02, 3.33938545e-02,\n",
       "       3.30612285e-02, 3.27317171e-02, 3.24052938e-02, 3.20819324e-02,\n",
       "       3.17616065e-02, 3.14442904e-02, 3.11299582e-02, 3.08185844e-02,\n",
       "       3.05101436e-02, 3.02046105e-02, 2.99019602e-02, 2.96021679e-02,\n",
       "       2.93052087e-02, 2.90110584e-02, 2.87196925e-02, 2.84310870e-02,\n",
       "       2.81452180e-02, 2.78620616e-02, 2.75815943e-02, 2.73037927e-02,\n",
       "       2.70286335e-02, 2.67560937e-02, 2.64861504e-02, 2.62187809e-02,\n",
       "       2.59539626e-02, 2.56916732e-02, 2.54318905e-02, 2.51745924e-02,\n",
       "       2.49197571e-02, 2.46673628e-02, 2.44173880e-02, 2.41698114e-02,\n",
       "       2.39246118e-02, 2.36817681e-02, 2.34412594e-02, 2.32030650e-02,\n",
       "       2.29671644e-02, 2.27335371e-02, 2.25021630e-02, 2.22730218e-02,\n",
       "       2.20460938e-02, 2.18213591e-02, 2.15987981e-02, 2.13783914e-02,\n",
       "       2.11601196e-02, 2.09439636e-02, 2.07299044e-02, 2.05179231e-02,\n",
       "       2.03080010e-02, 2.01001196e-02, 1.98942605e-02, 1.96904054e-02,\n",
       "       1.94885361e-02, 1.92886347e-02, 1.90906834e-02, 1.88946645e-02,\n",
       "       1.87005605e-02, 1.85083539e-02, 1.83180275e-02, 1.81295642e-02,\n",
       "       1.79429469e-02, 1.77581589e-02, 1.75751834e-02, 1.73940039e-02,\n",
       "       1.72146039e-02, 1.70369672e-02, 1.68610775e-02, 1.66869188e-02,\n",
       "       1.65144752e-02, 1.63437310e-02, 1.61746705e-02, 1.60072782e-02,\n",
       "       1.58415387e-02, 1.56774367e-02, 1.55149571e-02, 1.53540849e-02,\n",
       "       1.51948053e-02, 1.50371034e-02, 1.48809647e-02, 1.47263745e-02,\n",
       "       1.45733186e-02, 1.44217827e-02, 1.42717525e-02, 1.41232142e-02,\n",
       "       1.39761537e-02, 1.38305573e-02, 1.36864112e-02, 1.35437020e-02,\n",
       "       1.34024162e-02, 1.32625404e-02, 1.31240615e-02, 1.29869662e-02,\n",
       "       1.28512417e-02, 1.27168750e-02, 1.25838534e-02, 1.24521642e-02,\n",
       "       1.23217948e-02, 1.21927327e-02, 1.20649657e-02, 1.19384815e-02,\n",
       "       1.18132680e-02, 1.16893132e-02, 1.15666050e-02, 1.14451318e-02,\n",
       "       1.13248817e-02, 1.12058432e-02, 1.10880047e-02, 1.09713549e-02,\n",
       "       1.08558824e-02, 1.07415760e-02, 1.06284246e-02, 1.05164172e-02,\n",
       "       1.04055428e-02, 1.02957906e-02, 1.01871498e-02, 1.00796099e-02,\n",
       "       9.97316033e-03, 9.86779055e-03, 9.76349024e-03, 9.66024914e-03,\n",
       "       9.55805705e-03, 9.45690390e-03, 9.35677967e-03, 9.25767447e-03,\n",
       "       9.15957846e-03, 9.06248191e-03, 8.96637517e-03, 8.87124867e-03,\n",
       "       8.77709295e-03, 8.68389860e-03, 8.59165631e-03, 8.50035687e-03,\n",
       "       8.40999112e-03, 8.32055000e-03, 8.23202454e-03, 8.14440584e-03,\n",
       "       8.05768507e-03, 7.97185349e-03, 7.88690246e-03, 7.80282337e-03,\n",
       "       7.71960773e-03, 7.63724711e-03, 7.55573316e-03, 7.47505760e-03,\n",
       "       7.39521223e-03, 7.31618893e-03, 7.23797964e-03, 7.16057638e-03,\n",
       "       7.08397125e-03, 7.00815641e-03, 6.93312410e-03, 6.85886663e-03,\n",
       "       6.78537638e-03, 6.71264579e-03, 6.64066739e-03, 6.56943376e-03,\n",
       "       6.49893756e-03, 6.42917150e-03, 6.36012838e-03, 6.29180106e-03,\n",
       "       6.22418245e-03, 6.15726554e-03, 6.09104339e-03, 6.02550911e-03,\n",
       "       5.96065589e-03, 5.89647696e-03, 5.83296563e-03, 5.77011527e-03,\n",
       "       5.70791931e-03, 5.64637124e-03, 5.58546461e-03, 5.52519304e-03,\n",
       "       5.46555020e-03, 5.40652981e-03, 5.34812567e-03, 5.29033162e-03,\n",
       "       5.23314157e-03, 5.17654948e-03, 5.12054938e-03, 5.06513532e-03,\n",
       "       5.01030146e-03, 4.95604196e-03, 4.90235108e-03, 4.84922311e-03,\n",
       "       4.79665240e-03, 4.74463334e-03, 4.69316040e-03, 4.64222808e-03,\n",
       "       4.59183094e-03, 4.54196359e-03, 4.49262070e-03, 4.44379698e-03,\n",
       "       4.39548719e-03, 4.34768615e-03, 4.30038871e-03, 4.25358979e-03,\n",
       "       4.20728435e-03, 4.16146739e-03, 4.11613397e-03, 4.07127920e-03,\n",
       "       4.02689822e-03, 3.98298623e-03, 3.93953848e-03, 3.89655024e-03,\n",
       "       3.85401686e-03, 3.81193370e-03, 3.77029620e-03, 3.72909981e-03,\n",
       "       3.68834006e-03, 3.64801248e-03, 3.60811268e-03, 3.56863630e-03,\n",
       "       3.52957901e-03, 3.49093654e-03, 3.45270465e-03, 3.41487915e-03,\n",
       "       3.37745587e-03, 3.34043072e-03, 3.30379960e-03, 3.26755850e-03,\n",
       "       3.23170340e-03, 3.19623036e-03, 3.16113545e-03, 3.12641479e-03,\n",
       "       3.09206455e-03, 3.05808092e-03, 3.02446012e-03, 2.99119843e-03,\n",
       "       2.95829216e-03, 2.92573764e-03, 2.89353125e-03, 2.86166940e-03,\n",
       "       2.83014855e-03, 2.79896516e-03, 2.76811577e-03, 2.73759693e-03,\n",
       "       2.70740520e-03, 2.67753723e-03, 2.64798965e-03, 2.61875916e-03,\n",
       "       2.58984247e-03, 2.56123633e-03, 2.53293752e-03, 2.50494285e-03,\n",
       "       2.47724918e-03, 2.44985338e-03, 2.42275235e-03, 2.39594304e-03,\n",
       "       2.36942241e-03, 2.34318746e-03, 2.31723522e-03, 2.29156274e-03,\n",
       "       2.26616712e-03, 2.24104547e-03, 2.21619493e-03, 2.19161267e-03,\n",
       "       2.16729591e-03, 2.14324186e-03, 2.11944778e-03, 2.09591096e-03,\n",
       "       2.07262871e-03, 2.04959836e-03, 2.02681729e-03, 2.00428287e-03,\n",
       "       1.98199254e-03, 1.95994373e-03, 1.93813390e-03, 1.91656056e-03,\n",
       "       1.89522123e-03, 1.87411344e-03, 1.85323477e-03, 1.83258280e-03,\n",
       "       1.81215516e-03, 1.79194949e-03, 1.77196345e-03, 1.75219473e-03,\n",
       "       1.73264105e-03, 1.71330013e-03, 1.69416974e-03, 1.67524765e-03,\n",
       "       1.65653168e-03, 1.63801963e-03, 1.61970937e-03, 1.60159876e-03,\n",
       "       1.58368569e-03, 1.56596807e-03, 1.54844384e-03, 1.53111094e-03,\n",
       "       1.51396737e-03, 1.49701110e-03, 1.48024015e-03, 1.46365257e-03,\n",
       "       1.44724641e-03, 1.43101973e-03, 1.41497065e-03, 1.39909727e-03,\n",
       "       1.38339773e-03, 1.36787018e-03, 1.35251279e-03, 1.33732375e-03,\n",
       "       1.32230128e-03, 1.30744359e-03, 1.29274894e-03, 1.27821559e-03,\n",
       "       1.26384181e-03, 1.24962592e-03, 1.23556622e-03, 1.22166104e-03,\n",
       "       1.20790875e-03, 1.19430771e-03, 1.18085629e-03, 1.16755291e-03,\n",
       "       1.15439598e-03, 1.14138393e-03, 1.12851521e-03, 1.11578829e-03,\n",
       "       1.10320166e-03, 1.09075380e-03, 1.07844324e-03, 1.06626849e-03,\n",
       "       1.05422811e-03, 1.04232065e-03, 1.03054468e-03, 1.01889880e-03])"
      ]
     },
     "execution_count": 7,
     "metadata": {},
     "output_type": "execute_result"
    }
   ],
   "source": [
    "# Normalizamos los datos de intensidad para que el valor máximo sea 1\n",
    "\n",
    "intensity_normalized = intensity / np.max(intensity)\n",
    "intensity_normalized"
   ]
  },
  {
   "cell_type": "code",
   "execution_count": 8,
   "id": "7c180c0e",
   "metadata": {},
   "outputs": [],
   "source": [
    "import matplotlib.pyplot as plt # Importamos matplotlib para ver el comportamiento de nuestros datos"
   ]
  },
  {
   "cell_type": "code",
   "execution_count": 9,
   "id": "30bc80cf",
   "metadata": {},
   "outputs": [
    {
     "data": {
      "image/png": "[encoded data removed]",
      "text/plain": [
       "<Figure size 640x480 with 1 Axes>"
      ]
     },
     "metadata": {},
     "output_type": "display_data"
    }
   ],
   "source": [
    "# Creamos la visualización\n",
    "plt.plot(frequency,intensity)\n",
    "plt.xlabel('Frequency')\n",
    "plt.ylabel('Intensity')\n",
    "plt.show()"
   ]
  },
  {
   "cell_type": "code",
   "execution_count": 10,
   "id": "50832cdd",
   "metadata": {},
   "outputs": [],
   "source": [
    "# Definimos las constantes que utilizaremos\n",
    "h=6.67e-34 #Planck Constant\n",
    "c=3e8 #Speed of light constant\n",
    "kB=1.38e-23 #Boltzman constant"
   ]
  },
  {
   "cell_type": "markdown",
   "id": "9f614346",
   "metadata": {},
   "source": [
    "# Funciones definidas en clase"
   ]
  },
  {
   "cell_type": "code",
   "execution_count": 11,
   "id": "8babe3f2",
   "metadata": {},
   "outputs": [],
   "source": [
    "def planckian(nu, p):\n",
    "    w1 = p[0]\n",
    "    w2 = p[1]\n",
    "    \n",
    "    # Normalizar los pesos para que su suma sea 1\n",
    "    dummy = w1 + w2\n",
    "    w1 = w1 / dummy\n",
    "    w2 = w2 / dummy\n",
    "    \n",
    "    # Calculamos las temperaturas T1 y T2, asegurando que estén en el rango [1000, 4000]\n",
    "    T1 = 1000 * (1 + 3 * p[2])\n",
    "    T2 = 1000 * (1 + 3 * p[3])\n",
    "    \n",
    "    # Calculamos la intensidad usando la ley de Planck modificada\n",
    "    y = w1 / (np.exp(h * nu / (kB * T1)) - 1) + w2 / (np.exp(h * nu / (kB * T2)) - 1)\n",
    "    \n",
    "    # Multiplicamos por nu^3 para completar la expresión de la intensidad\n",
    "    return y * nu**3"
   ]
  },
  {
   "cell_type": "code",
   "execution_count": 12,
   "id": "40426ca6",
   "metadata": {},
   "outputs": [],
   "source": [
    "def scale_Factor(data, model):\n",
    "    # Calculamos el factor de escala para ajustar la magnitud del modelo\n",
    "    return np.sum(data * model) / np.sum(model * model)"
   ]
  },
  {
   "cell_type": "code",
   "execution_count": 13,
   "id": "1b47dc9a",
   "metadata": {},
   "outputs": [],
   "source": [
    "# Definimos nuestra loss function que nos calcula el error cuadrático entre los datos y el modelo.\n",
    "def loss_Function(data, model):\n",
    "    A = scale_Factor(data, model)  # Factor de escala para ajustar la magnitud del modelo\n",
    "    return np.sum((data - A*model) ** 2)"
   ]
  },
  {
   "cell_type": "code",
   "execution_count": 14,
   "id": "d90f1eb0",
   "metadata": {},
   "outputs": [],
   "source": [
    "# Definimos una función para calcular el error del modelo que se usará en la optimización\n",
    "def model_error(p, nu, data):\n",
    "    # Calcula la intensidad usando la función planckian con los parámetros actuales\n",
    "    model = planckian(nu, p)\n",
    "    # Calcula la función de pérdida para medir la discrepancia entre los datos y el modelo\n",
    "    loss = loss_Function(data, model)\n",
    "    return loss"
   ]
  },
  {
   "cell_type": "code",
   "execution_count": 15,
   "id": "0a0b383b",
   "metadata": {},
   "outputs": [],
   "source": [
    "# Definimos la función de reflección\n",
    "def reflecting(Ph, Pbar, refCoeff, nu, data):\n",
    "    P1 = (1 + refCoeff) * Pbar - refCoeff * Ph\n",
    "    L1 = loss_Function(data, planckian(nu, P1))\n",
    "    return P1, L1"
   ]
  },
  {
   "cell_type": "code",
   "execution_count": 16,
   "id": "bfbdc598",
   "metadata": {},
   "outputs": [],
   "source": [
    "# Definimos la función de expansión \n",
    "def expanding(P1, Pbar, expCoeff, nu, data):\n",
    "    P2 = expCoeff * P1 + (1 - expCoeff) * Pbar\n",
    "    L2 = loss_Function(data, planckian(nu, P2))\n",
    "    return P2, L2"
   ]
  },
  {
   "cell_type": "code",
   "execution_count": 17,
   "id": "8b703df7",
   "metadata": {},
   "outputs": [],
   "source": [
    "# Definimos la función de contracción\n",
    "def contracting(P1, Pbar, contCoeff, nu, data):\n",
    "    P2 = contCoeff * P1 + (1 - contCoeff) * Pbar\n",
    "    L2 = loss_Function(data, planckian(nu, P2))\n",
    "    return P2, L2"
   ]
  },
  {
   "cell_type": "code",
   "execution_count": 18,
   "id": "50dfdc51",
   "metadata": {},
   "outputs": [],
   "source": [
    "# Definimos la función de retrying\n",
    "def retry(P, retryCoeff):\n",
    "    for ii in range(1, np.shape(P)[0]):\n",
    "        P[ii, :] = (P[ii, :] + P[0, :]) * retryCoeff\n",
    "    return P"
   ]
  },
  {
   "cell_type": "markdown",
   "id": "f400428b",
   "metadata": {},
   "source": [
    "# Implementación del método Nelder-Mead"
   ]
  },
  {
   "cell_type": "code",
   "execution_count": 19,
   "id": "ad4fb7f8",
   "metadata": {},
   "outputs": [],
   "source": [
    "# Definimos una función para iniciar un vertice alrededor del punto de dado\n",
    "def initial_vertice(initial_p, scale=0.05):\n",
    "    n = len(initial_p)\n",
    "    vertice = np.zeros((n + 1, n))\n",
    "    vertice[0] = initial_p\n",
    "    \n",
    "    # Creamos los otros puntos del vertice variando los paramétros\n",
    "    for i in range(1, n + 1):\n",
    "        p_value = np.copy(initial_p)\n",
    "        p_value[i - 1] += scale * initial_p[i - 1]\n",
    "        vertice[i] = p_value\n",
    "\n",
    "    return vertice"
   ]
  },
  {
   "cell_type": "code",
   "execution_count": 20,
   "id": "0c907a8b",
   "metadata": {},
   "outputs": [],
   "source": [
    "# Definimos una función para aplicar el método de Nelder-Mead\n",
    "def nelder_mead(vertice, nu, data, refCoeff=1.0, expCoeff=2.0, contCoeff=0.5, \n",
    "                retryCoeff=0.5, tol=1e-12, num_iter=1000):\n",
    "    \n",
    "    n = vertice.shape[1]\n",
    "    loss = np.array([loss_Function(data, planckian(nu, p)) for p in vertice])\n",
    "    \n",
    "    count_iter = 0\n",
    "    while count_iter < num_iter:\n",
    "        # Ordenamos el vertice y las pérdidas usando los índices de los valores ordenados\n",
    "        index = np.argsort(loss)\n",
    "        vertice = vertice[index]\n",
    "        loss = loss[index]\n",
    "        \n",
    "        # Calculamos el centroide de los mejores n puntos (excluyendo el peor)\n",
    "        Pbar = np.mean(vertice[:-1], axis=0)\n",
    "        \n",
    "        # Aplicamos la reflexión\n",
    "        Ph = vertice[-1]\n",
    "        P1, L1 = reflecting(Ph, Pbar, refCoeff, nu, data)\n",
    "        \n",
    "        if L1 < loss[0]:  # Si es mejor que el mejor punto\n",
    "            # Aplicamos la expansión\n",
    "            P2, L2 = expanding(P1, Pbar, expCoeff, nu, data)\n",
    "            if L2 < L1:\n",
    "                vertice[-1] = P2\n",
    "                loss[-1] = L2\n",
    "            else:\n",
    "                vertice[-1] = P1\n",
    "                loss[-1] = L1\n",
    "        elif L1 < loss[-2]:  # Si es mejor que el segundo peor punto\n",
    "            # Aplicamos la reflexión\n",
    "            vertice[-1] = P1\n",
    "            loss[-1] = L1\n",
    "        else:\n",
    "            # Aplicamos la contracción\n",
    "            if L1 < loss[-1]:\n",
    "                P2, L2 = contracting(P1, Pbar, contCoeff, nu, data)\n",
    "            else:\n",
    "                P2, L2 = contracting(Ph, Pbar, contCoeff, nu, data)\n",
    "            \n",
    "            if L2 < loss[-1]:\n",
    "                vertice[-1] = P2\n",
    "                loss[-1] = L2\n",
    "            else:\n",
    "                # Reducimos el vertice\n",
    "                vertice = retry(vertice, retryCoeff)\n",
    "                loss = np.array([loss_Function(data, planckian(nu, p)) for p in vertice])\n",
    "        \n",
    "        # Comprobamos la convergencia\n",
    "        if np.std(loss) < tol:\n",
    "            break\n",
    "        \n",
    "        count_iter += 1\n",
    "\n",
    "    # Obtenemos los mejores valores de P y la función de pérdida\n",
    "    optimized_p = vertice[0]\n",
    "    optimized_loss = loss[0]\n",
    "    \n",
    "    return optimized_p, optimized_loss"
   ]
  },
  {
   "cell_type": "markdown",
   "id": "a60e3def",
   "metadata": {},
   "source": [
    "# Soluciones"
   ]
  },
  {
   "cell_type": "code",
   "execution_count": 21,
   "id": "7530ff01",
   "metadata": {},
   "outputs": [
    {
     "name": "stdout",
     "output_type": "stream",
     "text": [
      "Optimized parameters: [0.42812469 0.75553688 0.50873611 0.7907364 ]\n",
      "Loss Function: 1.6306001843479742e-12\n"
     ]
    }
   ],
   "source": [
    "# Definimos los valores iniciales para evaluar la función Nelder-Mead\n",
    "initial_p = np.array([0.3, 0.7, 0.5, 0.5])  # Valores iniciales\n",
    "vertice = initial_vertice(initial_p)\n",
    "\n",
    "# Ejecutamos el algoritmo\n",
    "optimized_p, optimized_loss = nelder_mead(vertice, frequency, intensity_normalized)\n",
    "\n",
    "print(\"Optimized parameters:\", optimized_p)\n",
    "print('Loss Function:', optimized_loss)"
   ]
  },
  {
   "cell_type": "code",
   "execution_count": 22,
   "id": "182512d2",
   "metadata": {},
   "outputs": [],
   "source": [
    "# Calculamos la intensidad ajustada con los parámetros optimizados y normalizamos\n",
    "intensity_optimized = planckian(frequency, optimized_p)\n",
    "intensity_optimized_normalized = intensity_optimized / np.max(intensity_optimized)"
   ]
  },
  {
   "cell_type": "code",
   "execution_count": 23,
   "id": "87a849d8",
   "metadata": {},
   "outputs": [
    {
     "data": {
      "image/png": "[encoded data removed]",
      "text/plain": [
       "<Figure size 640x480 with 1 Axes>"
      ]
     },
     "metadata": {},
     "output_type": "display_data"
    }
   ],
   "source": [
    "# Graficamos la intensidad experimental y la del modelo\n",
    "plt.plot(frequency, intensity_normalized,label='Data')\n",
    "plt.plot(frequency, intensity_optimized_normalized,label='Model',linestyle='--')\n",
    "plt.xlabel('Frequency')\n",
    "plt.ylabel('Normalized Intensity')\n",
    "plt.legend()\n",
    "plt.show()"
   ]
  },
  {
   "cell_type": "code",
   "execution_count": 24,
   "id": "8d25d4be",
   "metadata": {},
   "outputs": [
    {
     "name": "stdout",
     "output_type": "stream",
     "text": [
      "No Noise Parameters\n",
      "w1 = 0.36169518765520564, w2 = 0.6383048123447942\n",
      "T1 = 2526.2083242440053, T2 = 3372.2091985188617\n"
     ]
    }
   ],
   "source": [
    "# Extraemos los parámetros optimizados\n",
    "w1, w2, T1, T2 = optimized_p\n",
    "\n",
    "# Normalizamos los pesos w1 y w2 (obtendremos los valores deseados)\n",
    "dummy = w1 + w2\n",
    "w1 = w1 / dummy\n",
    "w2 = w2 / dummy\n",
    "\n",
    "# Calcular las temperaturas T1 y T2 (obtendremos los valores deseados)\n",
    "T1 = 1000 * (1 + 3 * T1)\n",
    "T2 = 1000 * (1 + 3 * T2)\n",
    "\n",
    "# Mostramos los resultados\n",
    "print(\"No Noise Parameters\")\n",
    "print(f'w1 = {w1}, w2 = {w2}')\n",
    "print(f'T1 = {T1}, T2 = {T2}')"
   ]
  }
 ],
 "metadata": {
  "kernelspec": {
   "display_name": "Python 3 (ipykernel)",
   "language": "python",
   "name": "python3"
  },
  "language_info": {
   "codemirror_mode": {
    "name": "ipython",
    "version": 3
   },
   "file_extension": ".py",
   "mimetype": "text/x-python",
   "name": "python",
   "nbconvert_exporter": "python",
   "pygments_lexer": "ipython3",
   "version": "3.11.5"
  }
 },
 "nbformat": 4,
 "nbformat_minor": 5
}
