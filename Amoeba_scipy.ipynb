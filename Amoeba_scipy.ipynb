{
 "cells": [
  {
   "cell_type": "markdown",
   "id": "100a9b19",
   "metadata": {},
   "source": [
    "# Segunda tarea de Computación en Física (Amoeba)"
   ]
  },
  {
   "cell_type": "code",
   "execution_count": 1,
   "id": "67e9bc45",
   "metadata": {},
   "outputs": [],
   "source": [
    "import pandas as pd # Importamos pandas para cargar el arhcivo que queremos"
   ]
  },
  {
   "cell_type": "markdown",
   "id": "f3b72fee",
   "metadata": {},
   "source": [
    "# Datos con Ruido"
   ]
  },
  {
   "cell_type": "code",
   "execution_count": 2,
   "id": "fde43c1f",
   "metadata": {},
   "outputs": [
    {
     "data": {
      "text/html": [
       "<div>\n",
       "<style scoped>\n",
       "    .dataframe tbody tr th:only-of-type {\n",
       "        vertical-align: middle;\n",
       "    }\n",
       "\n",
       "    .dataframe tbody tr th {\n",
       "        vertical-align: top;\n",
       "    }\n",
       "\n",
       "    .dataframe thead th {\n",
       "        text-align: right;\n",
       "    }\n",
       "</style>\n",
       "<table border=\"1\" class=\"dataframe\">\n",
       "  <thead>\n",
       "    <tr style=\"text-align: right;\">\n",
       "      <th></th>\n",
       "      <th>0</th>\n",
       "      <th>1</th>\n",
       "    </tr>\n",
       "  </thead>\n",
       "  <tbody>\n",
       "    <tr>\n",
       "      <th>0</th>\n",
       "      <td>1.000000e+00</td>\n",
       "      <td>2.904756e-28</td>\n",
       "    </tr>\n",
       "    <tr>\n",
       "      <th>1</th>\n",
       "      <td>1.001001e+12</td>\n",
       "      <td>2.878117e-04</td>\n",
       "    </tr>\n",
       "    <tr>\n",
       "      <th>2</th>\n",
       "      <td>2.002002e+12</td>\n",
       "      <td>1.122512e-03</td>\n",
       "    </tr>\n",
       "    <tr>\n",
       "      <th>3</th>\n",
       "      <td>3.003003e+12</td>\n",
       "      <td>2.483194e-03</td>\n",
       "    </tr>\n",
       "    <tr>\n",
       "      <th>4</th>\n",
       "      <td>4.004004e+12</td>\n",
       "      <td>4.410241e-03</td>\n",
       "    </tr>\n",
       "    <tr>\n",
       "      <th>...</th>\n",
       "      <td>...</td>\n",
       "      <td>...</td>\n",
       "    </tr>\n",
       "    <tr>\n",
       "      <th>995</th>\n",
       "      <td>9.959960e+14</td>\n",
       "      <td>2.334788e-04</td>\n",
       "    </tr>\n",
       "    <tr>\n",
       "      <th>996</th>\n",
       "      <td>9.969970e+14</td>\n",
       "      <td>2.300566e-04</td>\n",
       "    </tr>\n",
       "    <tr>\n",
       "      <th>997</th>\n",
       "      <td>9.979980e+14</td>\n",
       "      <td>2.268607e-04</td>\n",
       "    </tr>\n",
       "    <tr>\n",
       "      <th>998</th>\n",
       "      <td>9.989990e+14</td>\n",
       "      <td>2.220407e-04</td>\n",
       "    </tr>\n",
       "    <tr>\n",
       "      <th>999</th>\n",
       "      <td>1.000000e+15</td>\n",
       "      <td>2.184454e-04</td>\n",
       "    </tr>\n",
       "  </tbody>\n",
       "</table>\n",
       "<p>1000 rows × 2 columns</p>\n",
       "</div>"
      ],
      "text/plain": [
       "                0             1\n",
       "0    1.000000e+00  2.904756e-28\n",
       "1    1.001001e+12  2.878117e-04\n",
       "2    2.002002e+12  1.122512e-03\n",
       "3    3.003003e+12  2.483194e-03\n",
       "4    4.004004e+12  4.410241e-03\n",
       "..            ...           ...\n",
       "995  9.959960e+14  2.334788e-04\n",
       "996  9.969970e+14  2.300566e-04\n",
       "997  9.979980e+14  2.268607e-04\n",
       "998  9.989990e+14  2.220407e-04\n",
       "999  1.000000e+15  2.184454e-04\n",
       "\n",
       "[1000 rows x 2 columns]"
      ]
     },
     "execution_count": 2,
     "metadata": {},
     "output_type": "execute_result"
    }
   ],
   "source": [
    "# De esta forma cargamos los datos sin ruido del problema\n",
    "df1=pd.read_csv('Data_Planckian.txt', header=None, sep=(' '))\n",
    "df1"
   ]
  },
  {
   "cell_type": "code",
   "execution_count": 3,
   "id": "e8c15298",
   "metadata": {},
   "outputs": [],
   "source": [
    "import numpy as np # Importamos numpy para tratar los datos como arrays"
   ]
  },
  {
   "cell_type": "code",
   "execution_count": 4,
   "id": "10c8bb28",
   "metadata": {
    "scrolled": false
   },
   "outputs": [
    {
     "data": {
      "text/plain": [
       "array([[1.00000000e+00, 2.90475571e-28],\n",
       "       [1.00100100e+12, 2.87811714e-04],\n",
       "       [2.00200200e+12, 1.12251208e-03],\n",
       "       ...,\n",
       "       [9.97997998e+14, 2.26860709e-04],\n",
       "       [9.98998999e+14, 2.22040656e-04],\n",
       "       [1.00000000e+15, 2.18445366e-04]])"
      ]
     },
     "execution_count": 4,
     "metadata": {},
     "output_type": "execute_result"
    }
   ],
   "source": [
    "# Convertimos los datos cargados con pandas a arrays de numpy\n",
    "data=np.array(df1)\n",
    "data"
   ]
  },
  {
   "cell_type": "code",
   "execution_count": 5,
   "id": "b87b5c58",
   "metadata": {},
   "outputs": [
    {
     "data": {
      "text/plain": [
       "array([1.000000e+00, 1.001001e+12, 2.002002e+12, 3.003003e+12,\n",
       "       4.004004e+12])"
      ]
     },
     "execution_count": 5,
     "metadata": {},
     "output_type": "execute_result"
    }
   ],
   "source": [
    "# Definimos la variable frequency que serán los datos de la primera columna de DataFrame\n",
    "frequency=data[:,0]\n",
    "frequency[:5] # Muestra los 5 primero valores"
   ]
  },
  {
   "cell_type": "code",
   "execution_count": 6,
   "id": "21ab5016",
   "metadata": {},
   "outputs": [
    {
     "data": {
      "text/plain": [
       "array([2.90475571e-28, 2.87811714e-04, 1.12251208e-03, 2.48319412e-03,\n",
       "       4.41024051e-03])"
      ]
     },
     "execution_count": 6,
     "metadata": {},
     "output_type": "execute_result"
    }
   ],
   "source": [
    "# Hacemos lo mismo con la segunda columna del DataFrame\n",
    "intensity=data[:,1]\n",
    "intensity[:5]"
   ]
  },
  {
   "cell_type": "code",
   "execution_count": 7,
   "id": "06ebcc0f",
   "metadata": {
    "scrolled": true
   },
   "outputs": [
    {
     "data": {
      "text/plain": [
       "array([2.90475571e-28, 2.87811714e-04, 1.12251208e-03, 2.48319412e-03,\n",
       "       4.41024051e-03, 6.80633280e-03, 9.62330589e-03, 1.30835144e-02,\n",
       "       1.67404746e-02, 2.09164860e-02, 2.53664086e-02, 3.02115804e-02,\n",
       "       3.55095525e-02, 4.11848780e-02, 4.73735752e-02, 5.37239167e-02,\n",
       "       6.02975297e-02, 6.67396863e-02, 7.36300982e-02, 8.17335723e-02,\n",
       "       8.85951013e-02, 9.68275778e-02, 1.05606835e-01, 1.12617445e-01,\n",
       "       1.22535210e-01, 1.32146409e-01, 1.39629821e-01, 1.49853112e-01,\n",
       "       1.56683723e-01, 1.65723623e-01, 1.75905216e-01, 1.86169441e-01,\n",
       "       1.97089580e-01, 2.06802929e-01, 2.13993132e-01, 2.22809668e-01,\n",
       "       2.35406872e-01, 2.47078166e-01, 2.52759860e-01, 2.64427824e-01,\n",
       "       2.73587395e-01, 2.83006035e-01, 2.93328854e-01, 3.05907766e-01,\n",
       "       3.13857360e-01, 3.24347104e-01, 3.37123948e-01, 3.48436234e-01,\n",
       "       3.54823094e-01, 3.67362073e-01, 3.80987786e-01, 3.85957000e-01,\n",
       "       3.96312483e-01, 4.04305927e-01, 4.14454997e-01, 4.28270952e-01,\n",
       "       4.37481893e-01, 4.50943490e-01, 4.59590905e-01, 4.65183589e-01,\n",
       "       4.73783167e-01, 4.90124542e-01, 5.01202911e-01, 5.01074408e-01,\n",
       "       5.18124252e-01, 5.20276282e-01, 5.36278076e-01, 5.47856637e-01,\n",
       "       5.49359816e-01, 5.59151721e-01, 5.70087789e-01, 5.76133613e-01,\n",
       "       5.86205796e-01, 5.99000314e-01, 6.08511223e-01, 6.10063023e-01,\n",
       "       6.27030659e-01, 6.38037059e-01, 6.45574133e-01, 6.44568084e-01,\n",
       "       6.59241362e-01, 6.61098236e-01, 6.66561416e-01, 6.86287909e-01,\n",
       "       6.91674319e-01, 6.97914298e-01, 7.02389219e-01, 7.16983099e-01,\n",
       "       7.17217442e-01, 7.28088047e-01, 7.41019380e-01, 7.42189386e-01,\n",
       "       7.44400246e-01, 7.61352425e-01, 7.67091290e-01, 7.72665527e-01,\n",
       "       7.71284230e-01, 7.87693924e-01, 7.94679348e-01, 7.95916494e-01,\n",
       "       7.95653601e-01, 8.06697263e-01, 8.16296450e-01, 8.15182956e-01,\n",
       "       8.28135927e-01, 8.29145154e-01, 8.32571424e-01, 8.37602730e-01,\n",
       "       8.49304235e-01, 8.45142343e-01, 8.60532618e-01, 8.56627757e-01,\n",
       "       8.70169340e-01, 8.74364625e-01, 8.76474879e-01, 8.75462134e-01,\n",
       "       8.92699712e-01, 8.93329947e-01, 8.87655124e-01, 8.96799881e-01,\n",
       "       9.11513110e-01, 9.14944268e-01, 9.11219404e-01, 9.12752080e-01,\n",
       "       9.26454157e-01, 9.23496193e-01, 9.16928999e-01, 9.22872028e-01,\n",
       "       9.38734851e-01, 9.42298309e-01, 9.30051901e-01, 9.50248973e-01,\n",
       "       9.39189364e-01, 9.49151373e-01, 9.54351948e-01, 9.50098018e-01,\n",
       "       9.55231514e-01, 9.56148277e-01, 9.56506604e-01, 9.53962500e-01,\n",
       "       9.63280076e-01, 9.68196554e-01, 9.77070987e-01, 9.72915215e-01,\n",
       "       9.80680411e-01, 9.72066230e-01, 9.75655354e-01, 9.75240060e-01,\n",
       "       9.86158426e-01, 9.78140320e-01, 9.77877515e-01, 9.90014098e-01,\n",
       "       9.76909025e-01, 9.76828901e-01, 9.80111456e-01, 9.89034346e-01,\n",
       "       9.93473822e-01, 9.80430665e-01, 9.90234178e-01, 9.95831562e-01,\n",
       "       9.90637904e-01, 9.92596595e-01, 1.00000000e+00, 9.89151702e-01,\n",
       "       9.88631451e-01, 9.82488897e-01, 9.85910626e-01, 9.84079405e-01,\n",
       "       9.86521478e-01, 9.90184979e-01, 9.99786734e-01, 9.85551663e-01,\n",
       "       9.90159872e-01, 9.97048816e-01, 9.87532263e-01, 9.80287704e-01,\n",
       "       9.79089652e-01, 9.77847839e-01, 9.84096507e-01, 9.87333788e-01,\n",
       "       9.92625267e-01, 9.82111950e-01, 9.81299075e-01, 9.76375022e-01,\n",
       "       9.83751226e-01, 9.86439826e-01, 9.69368630e-01, 9.75434996e-01,\n",
       "       9.65936394e-01, 9.75047145e-01, 9.77467396e-01, 9.74908384e-01,\n",
       "       9.57712324e-01, 9.55842866e-01, 9.58785769e-01, 9.58831405e-01,\n",
       "       9.54974924e-01, 9.57932876e-01, 9.55095500e-01, 9.58823595e-01,\n",
       "       9.42336874e-01, 9.47446546e-01, 9.54037243e-01, 9.38245612e-01,\n",
       "       9.39517994e-01, 9.43943319e-01, 9.32308503e-01, 9.34410347e-01,\n",
       "       9.36074758e-01, 9.34168981e-01, 9.18207319e-01, 9.16846303e-01,\n",
       "       9.21940605e-01, 9.26651627e-01, 9.21129721e-01, 9.05142421e-01,\n",
       "       9.07270557e-01, 9.10839148e-01, 8.94946806e-01, 9.05741957e-01,\n",
       "       9.03152964e-01, 8.87939226e-01, 8.85173423e-01, 8.97097703e-01,\n",
       "       8.80112937e-01, 8.87221214e-01, 8.76113439e-01, 8.81523106e-01,\n",
       "       8.78407353e-01, 8.65732901e-01, 8.63772458e-01, 8.63543974e-01,\n",
       "       8.49955577e-01, 8.55603678e-01, 8.50300450e-01, 8.46955934e-01,\n",
       "       8.38264743e-01, 8.39692685e-01, 8.40868533e-01, 8.40789019e-01,\n",
       "       8.35090423e-01, 8.29977806e-01, 8.15826632e-01, 8.26637093e-01,\n",
       "       8.21127038e-01, 8.17171941e-01, 8.04575800e-01, 8.08047157e-01,\n",
       "       8.08408032e-01, 8.03765547e-01, 7.87685108e-01, 7.89476742e-01,\n",
       "       7.84217807e-01, 7.83301211e-01, 7.70069851e-01, 7.80518498e-01,\n",
       "       7.77020164e-01, 7.73011879e-01, 7.61386410e-01, 7.64243297e-01,\n",
       "       7.47907644e-01, 7.46755454e-01, 7.53437504e-01, 7.37815372e-01,\n",
       "       7.43427324e-01, 7.34948812e-01, 7.25723587e-01, 7.21532636e-01,\n",
       "       7.26052935e-01, 7.24495325e-01, 7.12425943e-01, 7.13992306e-01,\n",
       "       7.03794684e-01, 7.05591956e-01, 7.04136973e-01, 6.96790219e-01,\n",
       "       6.90631472e-01, 6.82799598e-01, 6.77280062e-01, 6.75866859e-01,\n",
       "       6.70066096e-01, 6.65409986e-01, 6.71449268e-01, 6.64300826e-01,\n",
       "       6.58304736e-01, 6.50401948e-01, 6.44479018e-01, 6.46113204e-01,\n",
       "       6.36588590e-01, 6.41451737e-01, 6.36686906e-01, 6.25474157e-01,\n",
       "       6.20308337e-01, 6.23541608e-01, 6.21561672e-01, 6.15252312e-01,\n",
       "       6.11943337e-01, 6.00945186e-01, 6.03830590e-01, 6.01059386e-01,\n",
       "       5.90158949e-01, 5.91183935e-01, 5.92358956e-01, 5.87379413e-01,\n",
       "       5.79494025e-01, 5.79024115e-01, 5.69239874e-01, 5.70572949e-01,\n",
       "       5.59876974e-01, 5.56111340e-01, 5.52366058e-01, 5.54736504e-01,\n",
       "       5.50402698e-01, 5.44943727e-01, 5.35727931e-01, 5.37040584e-01,\n",
       "       5.31456651e-01, 5.27595239e-01, 5.27278946e-01, 5.20342201e-01,\n",
       "       5.13471266e-01, 5.18691386e-01, 5.13991798e-01, 5.09684618e-01,\n",
       "       5.04924673e-01, 5.03003684e-01, 4.95452985e-01, 4.90465438e-01,\n",
       "       4.89837174e-01, 4.84891509e-01, 4.80238232e-01, 4.79274975e-01,\n",
       "       4.69890348e-01, 4.68294118e-01, 4.71509654e-01, 4.66645853e-01,\n",
       "       4.62635302e-01, 4.58867789e-01, 4.53518732e-01, 4.48968700e-01,\n",
       "       4.47749268e-01, 4.42104776e-01, 4.39490805e-01, 4.34565582e-01,\n",
       "       4.28675232e-01, 4.32586302e-01, 4.22304810e-01, 4.22129921e-01,\n",
       "       4.21566408e-01, 4.17888372e-01, 4.09292873e-01, 4.12961785e-01,\n",
       "       4.04503119e-01, 4.01779477e-01, 3.97451397e-01, 3.94499866e-01,\n",
       "       3.96809070e-01, 3.92504295e-01, 3.90939924e-01, 3.86841122e-01,\n",
       "       3.82123545e-01, 3.74614984e-01, 3.76574827e-01, 3.71862094e-01,\n",
       "       3.66577807e-01, 3.65691626e-01, 3.65295661e-01, 3.60381223e-01,\n",
       "       3.55011769e-01, 3.53930305e-01, 3.50965781e-01, 3.46096203e-01,\n",
       "       3.46128696e-01, 3.38625803e-01, 3.41400104e-01, 3.36710030e-01,\n",
       "       3.33086193e-01, 3.30153192e-01, 3.30974970e-01, 3.21868967e-01,\n",
       "       3.21784065e-01, 3.17458952e-01, 3.19602863e-01, 3.13060640e-01,\n",
       "       3.11662145e-01, 3.05692668e-01, 3.08851984e-01, 3.02954601e-01,\n",
       "       3.02705262e-01, 2.97702751e-01, 2.93509958e-01, 2.91591934e-01,\n",
       "       2.89067510e-01, 2.85807273e-01, 2.84463868e-01, 2.81204163e-01,\n",
       "       2.80189482e-01, 2.78584195e-01, 2.72773415e-01, 2.73490176e-01,\n",
       "       2.71381204e-01, 2.69059486e-01, 2.63241866e-01, 2.64753304e-01,\n",
       "       2.60013124e-01, 2.57524963e-01, 2.54534673e-01, 2.51353089e-01,\n",
       "       2.51576266e-01, 2.49457238e-01, 2.46403306e-01, 2.46457405e-01,\n",
       "       2.42401837e-01, 2.40495955e-01, 2.38577008e-01, 2.33828647e-01,\n",
       "       2.35079946e-01, 2.30587259e-01, 2.28565379e-01, 2.25624628e-01,\n",
       "       2.24673756e-01, 2.22845061e-01, 2.22840827e-01, 2.18245147e-01,\n",
       "       2.15210395e-01, 2.13047263e-01, 2.12819987e-01, 2.09624553e-01,\n",
       "       2.10074827e-01, 2.06028158e-01, 2.04063867e-01, 2.02858604e-01,\n",
       "       2.00996420e-01, 2.00446923e-01, 1.99017437e-01, 1.95457610e-01,\n",
       "       1.91687981e-01, 1.92622372e-01, 1.88975197e-01, 1.87674698e-01,\n",
       "       1.84419866e-01, 1.85248406e-01, 1.81857914e-01, 1.80888773e-01,\n",
       "       1.78622390e-01, 1.77302650e-01, 1.74379171e-01, 1.74452828e-01,\n",
       "       1.73790144e-01, 1.69185511e-01, 1.67399162e-01, 1.67776704e-01,\n",
       "       1.65601742e-01, 1.64130052e-01, 1.60874404e-01, 1.60190701e-01,\n",
       "       1.57948408e-01, 1.58467367e-01, 1.57556536e-01, 1.54544746e-01,\n",
       "       1.53125727e-01, 1.52358400e-01, 1.48966456e-01, 1.47606482e-01,\n",
       "       1.47899714e-01, 1.45158229e-01, 1.43823949e-01, 1.42722849e-01,\n",
       "       1.40164910e-01, 1.40213404e-01, 1.39122118e-01, 1.37140744e-01,\n",
       "       1.34512983e-01, 1.33167365e-01, 1.33479219e-01, 1.31804832e-01,\n",
       "       1.31300761e-01, 1.28238101e-01, 1.26792198e-01, 1.27099940e-01,\n",
       "       1.25924746e-01, 1.24156249e-01, 1.22979279e-01, 1.22140918e-01,\n",
       "       1.20749871e-01, 1.17591725e-01, 1.17607894e-01, 1.17076034e-01,\n",
       "       1.16287506e-01, 1.14766674e-01, 1.12668300e-01, 1.11404252e-01,\n",
       "       1.10957324e-01, 1.08791637e-01, 1.07750437e-01, 1.07328384e-01,\n",
       "       1.06968443e-01, 1.05778546e-01, 1.03081776e-01, 1.03359953e-01,\n",
       "       1.02673509e-01, 9.99315604e-02, 9.96959843e-02, 9.76472178e-02,\n",
       "       9.83755610e-02, 9.68193432e-02, 9.45227192e-02, 9.43985530e-02,\n",
       "       9.37005618e-02, 9.31637150e-02, 9.12871973e-02, 8.97091342e-02,\n",
       "       9.00008318e-02, 8.82595075e-02, 8.79180008e-02, 8.69915379e-02,\n",
       "       8.54016437e-02, 8.57492757e-02, 8.32908305e-02, 8.25575911e-02,\n",
       "       8.30336956e-02, 8.12244491e-02, 7.97977115e-02, 7.94231216e-02,\n",
       "       7.89437063e-02, 7.85148834e-02, 7.64910127e-02, 7.58650451e-02,\n",
       "       7.50967862e-02, 7.47992179e-02, 7.42654871e-02, 7.33799802e-02,\n",
       "       7.21627327e-02, 7.11294354e-02, 7.05464204e-02, 7.00317448e-02,\n",
       "       6.95311313e-02, 6.81781146e-02, 6.75694685e-02, 6.68597859e-02,\n",
       "       6.64656456e-02, 6.53870361e-02, 6.49109929e-02, 6.42473031e-02,\n",
       "       6.29872782e-02, 6.23586675e-02, 6.22246212e-02, 6.14375846e-02,\n",
       "       6.06081187e-02, 5.97863768e-02, 5.93514100e-02, 5.87546908e-02,\n",
       "       5.82542147e-02, 5.76596443e-02, 5.71597408e-02, 5.64826941e-02,\n",
       "       5.51160944e-02, 5.50896363e-02, 5.46045152e-02, 5.41442446e-02,\n",
       "       5.27894595e-02, 5.25743611e-02, 5.20818259e-02, 5.09452540e-02,\n",
       "       5.11249016e-02, 5.05327322e-02, 5.00411553e-02, 4.96016771e-02,\n",
       "       4.90199413e-02, 4.77708520e-02, 4.76953944e-02, 4.69996678e-02,\n",
       "       4.65217757e-02, 4.59227863e-02, 4.51067083e-02, 4.50530468e-02,\n",
       "       4.42577913e-02, 4.35976806e-02, 4.38013511e-02, 4.28588064e-02,\n",
       "       4.22509509e-02, 4.17634587e-02, 4.14220599e-02, 4.10142895e-02,\n",
       "       4.06905405e-02, 4.00568724e-02, 3.98206484e-02, 3.93695578e-02,\n",
       "       3.86732114e-02, 3.85816030e-02, 3.76264492e-02, 3.74343517e-02,\n",
       "       3.73701889e-02, 3.67253967e-02, 3.62733194e-02, 3.56136059e-02,\n",
       "       3.52698694e-02, 3.50405297e-02, 3.44766386e-02, 3.39989391e-02,\n",
       "       3.40507670e-02, 3.32729422e-02, 3.33835568e-02, 3.29395116e-02,\n",
       "       3.24183577e-02, 3.23036643e-02, 3.16499092e-02, 3.13467407e-02,\n",
       "       3.09413492e-02, 3.03844261e-02, 3.03615987e-02, 2.97579408e-02,\n",
       "       2.94940719e-02, 2.89054444e-02, 2.86167538e-02, 2.87129822e-02,\n",
       "       2.83843610e-02, 2.78336115e-02, 2.75201340e-02, 2.73129602e-02,\n",
       "       2.68192342e-02, 2.64184221e-02, 2.61465829e-02, 2.61123943e-02,\n",
       "       2.54419240e-02, 2.55361093e-02, 2.51527744e-02, 2.47471342e-02,\n",
       "       2.44052722e-02, 2.43028004e-02, 2.37455257e-02, 2.35315630e-02,\n",
       "       2.34602587e-02, 2.28801867e-02, 2.29427162e-02, 2.25656752e-02,\n",
       "       2.24438021e-02, 2.19117258e-02, 2.17348498e-02, 2.13486362e-02,\n",
       "       2.10823705e-02, 2.08506230e-02, 2.07652334e-02, 2.06007286e-02,\n",
       "       2.04255524e-02, 2.01419932e-02, 1.97403576e-02, 1.95334635e-02,\n",
       "       1.95602773e-02, 1.93011447e-02, 1.90003971e-02, 1.86930668e-02,\n",
       "       1.84320923e-02, 1.82055610e-02, 1.79170173e-02, 1.78874284e-02,\n",
       "       1.77388565e-02, 1.72654836e-02, 1.70416442e-02, 1.69190598e-02,\n",
       "       1.69521716e-02, 1.64955304e-02, 1.65521651e-02, 1.61623970e-02,\n",
       "       1.59803798e-02, 1.59361994e-02, 1.57484979e-02, 1.55639206e-02,\n",
       "       1.53121016e-02, 1.52327397e-02, 1.49638410e-02, 1.46798674e-02,\n",
       "       1.44812192e-02, 1.44114403e-02, 1.41887970e-02, 1.39690684e-02,\n",
       "       1.38209014e-02, 1.37403368e-02, 1.36380368e-02, 1.32639306e-02,\n",
       "       1.30916456e-02, 1.30355862e-02, 1.29566891e-02, 1.27828128e-02,\n",
       "       1.26498936e-02, 1.24294561e-02, 1.23051951e-02, 1.22008710e-02,\n",
       "       1.19892607e-02, 1.18515399e-02, 1.18028784e-02, 1.14987735e-02,\n",
       "       1.14501945e-02, 1.12541141e-02, 1.11275412e-02, 1.09961583e-02,\n",
       "       1.07972670e-02, 1.06701135e-02, 1.05910387e-02, 1.04140749e-02,\n",
       "       1.04433137e-02, 1.02707301e-02, 1.01579085e-02, 1.00832311e-02,\n",
       "       9.93066262e-03, 9.66838800e-03, 9.68313333e-03, 9.46770703e-03,\n",
       "       9.38890122e-03, 9.34148675e-03, 9.22696733e-03, 8.99907844e-03,\n",
       "       8.90788227e-03, 8.80758535e-03, 8.79809345e-03, 8.60224059e-03,\n",
       "       8.59272328e-03, 8.40475034e-03, 8.26728499e-03, 8.22986587e-03,\n",
       "       8.16240640e-03, 8.01165592e-03, 7.88948344e-03, 7.79438659e-03,\n",
       "       7.75032937e-03, 7.56504099e-03, 7.54689562e-03, 7.44943170e-03,\n",
       "       7.42741468e-03, 7.22062106e-03, 7.19049101e-03, 7.15893124e-03,\n",
       "       6.96720103e-03, 6.86140710e-03, 6.84782745e-03, 6.72684007e-03,\n",
       "       6.60653580e-03, 6.56336906e-03, 6.53589395e-03, 6.40121320e-03,\n",
       "       6.34153882e-03, 6.20901586e-03, 6.21647768e-03, 6.11316655e-03,\n",
       "       6.02984805e-03, 5.95449439e-03, 5.92174613e-03, 5.78774497e-03,\n",
       "       5.71852537e-03, 5.67203278e-03, 5.58495770e-03, 5.50049408e-03,\n",
       "       5.50381016e-03, 5.39854480e-03, 5.32113863e-03, 5.31298840e-03,\n",
       "       5.24080888e-03, 5.15169921e-03, 5.12118174e-03, 5.04762427e-03,\n",
       "       4.94511461e-03, 4.83762194e-03, 4.83270971e-03, 4.71871574e-03,\n",
       "       4.68870511e-03, 4.67673345e-03, 4.62733020e-03, 4.55180010e-03,\n",
       "       4.44323284e-03, 4.42819238e-03, 4.35452931e-03, 4.34101624e-03,\n",
       "       4.23035539e-03, 4.21350303e-03, 4.19084640e-03, 4.07157710e-03,\n",
       "       4.08211580e-03, 3.99894013e-03, 3.94269798e-03, 3.92824125e-03,\n",
       "       3.86827313e-03, 3.82693835e-03, 3.78109207e-03, 3.73482362e-03,\n",
       "       3.62348032e-03, 3.59639473e-03, 3.59635053e-03, 3.48808712e-03,\n",
       "       3.49278032e-03, 3.40974203e-03, 3.41798377e-03, 3.34154329e-03,\n",
       "       3.30945885e-03, 3.26171075e-03, 3.19585871e-03, 3.16150794e-03,\n",
       "       3.13293871e-03, 3.11138827e-03, 3.04557673e-03, 3.00729734e-03,\n",
       "       3.00391939e-03, 2.94303644e-03, 2.90076207e-03, 2.89693113e-03,\n",
       "       2.86313108e-03, 2.80798415e-03, 2.77149096e-03, 2.72000005e-03,\n",
       "       2.69653625e-03, 2.68214242e-03, 2.65202703e-03, 2.62190567e-03,\n",
       "       2.57700808e-03, 2.54124461e-03, 2.51927242e-03, 2.45893503e-03,\n",
       "       2.44412454e-03, 2.41433265e-03, 2.36858998e-03, 2.35228037e-03,\n",
       "       2.30928765e-03, 2.27243162e-03, 2.23540395e-03, 2.23222091e-03,\n",
       "       2.20160894e-03, 2.16248119e-03, 2.12402620e-03, 2.11446086e-03,\n",
       "       2.07817690e-03, 2.07711858e-03, 2.05009537e-03, 2.01089284e-03,\n",
       "       1.99158915e-03, 1.94335866e-03, 1.93963952e-03, 1.91946304e-03,\n",
       "       1.88310093e-03, 1.86990313e-03, 1.83874103e-03, 1.81715010e-03,\n",
       "       1.79862764e-03, 1.77104052e-03, 1.75556587e-03, 1.71026120e-03,\n",
       "       1.70748220e-03, 1.68091118e-03, 1.65305890e-03, 1.63009330e-03,\n",
       "       1.61607066e-03, 1.59851438e-03, 1.55893195e-03, 1.56158281e-03,\n",
       "       1.52225586e-03, 1.50637996e-03, 1.49246983e-03, 1.47318249e-03,\n",
       "       1.44881553e-03, 1.44383724e-03, 1.42461241e-03, 1.40037239e-03,\n",
       "       1.37444182e-03, 1.37784864e-03, 1.33992420e-03, 1.34040267e-03,\n",
       "       1.31258976e-03, 1.28711404e-03, 1.27302326e-03, 1.27119560e-03,\n",
       "       1.25407986e-03, 1.23942943e-03, 1.20925039e-03, 1.19776102e-03,\n",
       "       1.18054371e-03, 1.16319763e-03, 1.15810947e-03, 1.14649206e-03,\n",
       "       1.12655470e-03, 1.10989213e-03, 1.09423663e-03, 1.08364587e-03,\n",
       "       1.06514023e-03, 1.05611145e-03, 1.03119994e-03, 1.03465823e-03,\n",
       "       1.00738037e-03, 9.89014726e-04, 9.82523854e-04, 9.67647215e-04,\n",
       "       9.54431596e-04, 9.49123440e-04, 9.31040078e-04, 9.15940428e-04,\n",
       "       9.14268557e-04, 9.01110685e-04, 8.90069890e-04, 8.68138654e-04,\n",
       "       8.70969509e-04, 8.59658332e-04, 8.37544146e-04, 8.29961178e-04,\n",
       "       8.19088937e-04, 8.05130263e-04, 8.00358067e-04, 7.87386430e-04,\n",
       "       7.84840763e-04, 7.73100449e-04, 7.60572477e-04, 7.42656924e-04,\n",
       "       7.39221239e-04, 7.31942662e-04, 7.24804917e-04, 7.03580138e-04,\n",
       "       7.07237360e-04, 6.92940712e-04, 6.82288903e-04, 6.67962726e-04,\n",
       "       6.69080268e-04, 6.55328622e-04, 6.47153915e-04, 6.42141333e-04,\n",
       "       6.32099104e-04, 6.24219939e-04, 6.12252978e-04, 6.01268870e-04,\n",
       "       5.94432346e-04, 5.94191776e-04, 5.77302794e-04, 5.73268694e-04,\n",
       "       5.62361524e-04, 5.61057446e-04, 5.48631012e-04, 5.41647834e-04,\n",
       "       5.34847830e-04, 5.28713135e-04, 5.21011475e-04, 5.16384271e-04,\n",
       "       5.07953835e-04, 5.05488300e-04, 5.00718288e-04, 4.89612642e-04,\n",
       "       4.81695879e-04, 4.78384377e-04, 4.73203085e-04, 4.62542872e-04,\n",
       "       4.56656869e-04, 4.51591136e-04, 4.45045721e-04, 4.43010436e-04,\n",
       "       4.34845385e-04, 4.32826936e-04, 4.22150270e-04, 4.17835394e-04,\n",
       "       4.15535126e-04, 4.08170770e-04, 4.04390039e-04, 3.96551471e-04,\n",
       "       3.89376391e-04, 3.87365437e-04, 3.78644998e-04, 3.74425412e-04,\n",
       "       3.69931807e-04, 3.69099732e-04, 3.59540297e-04, 3.52915152e-04,\n",
       "       3.48209504e-04, 3.44033548e-04, 3.41398321e-04, 3.37614308e-04,\n",
       "       3.34412569e-04, 3.29558237e-04, 3.22124866e-04, 3.21891287e-04,\n",
       "       3.18852757e-04, 3.14526146e-04, 3.06892236e-04, 3.01561976e-04,\n",
       "       2.98577014e-04, 2.98128874e-04, 2.91961078e-04, 2.90144589e-04,\n",
       "       2.84538841e-04, 2.80259904e-04, 2.78210523e-04, 2.72432201e-04,\n",
       "       2.70007307e-04, 2.66500881e-04, 2.64603192e-04, 2.59426143e-04,\n",
       "       2.56937959e-04, 2.51532342e-04, 2.46023092e-04, 2.43635318e-04,\n",
       "       2.40879973e-04, 2.40640642e-04, 2.35889222e-04, 2.33478769e-04,\n",
       "       2.30056614e-04, 2.26860709e-04, 2.22040656e-04, 2.18445366e-04])"
      ]
     },
     "execution_count": 7,
     "metadata": {},
     "output_type": "execute_result"
    }
   ],
   "source": [
    "# Normalizamos los datos de intensidad para que el valor máximo sea 1\n",
    "\n",
    "intensity_normalized = intensity / np.max(intensity)\n",
    "intensity_normalized"
   ]
  },
  {
   "cell_type": "code",
   "execution_count": 8,
   "id": "316a7ce5",
   "metadata": {},
   "outputs": [],
   "source": [
    "import matplotlib.pyplot as plt # Importamos matplotlib para ver el comportamiento de nuestros datos"
   ]
  },
  {
   "cell_type": "code",
   "execution_count": 9,
   "id": "57426e04",
   "metadata": {},
   "outputs": [
    {
     "data": {
      "image/png": "[encoded data removed]",
      "text/plain": [
       "<Figure size 640x480 with 1 Axes>"
      ]
     },
     "metadata": {},
     "output_type": "display_data"
    }
   ],
   "source": [
    "# Creamos la visualización\n",
    "plt.plot(frequency,intensity)\n",
    "plt.xlabel('Frequency')\n",
    "plt.ylabel('Intensity')\n",
    "plt.show()"
   ]
  },
  {
   "cell_type": "code",
   "execution_count": 10,
   "id": "cb4fc683",
   "metadata": {},
   "outputs": [],
   "source": [
    "# Definimos las constantes que utilizaremos\n",
    "h=6.67e-34 #Planck Constant\n",
    "c=3e8 #Speed of light constant\n",
    "kB=1.38e-23 #Boltzman constant"
   ]
  },
  {
   "cell_type": "markdown",
   "id": "ed31b8ff",
   "metadata": {},
   "source": [
    "# Funciones vistas en clase"
   ]
  },
  {
   "cell_type": "code",
   "execution_count": 11,
   "id": "68d2f933",
   "metadata": {},
   "outputs": [],
   "source": [
    "def planckian(nu, p):\n",
    "    w1 = p[0]\n",
    "    w2 = p[1]\n",
    "    \n",
    "    # Normalizar los pesos para que su suma sea 1\n",
    "    dummy = w1 + w2\n",
    "    w1 = w1 / dummy\n",
    "    w2 = w2 / dummy\n",
    "    \n",
    "    # Calculamos las temperaturas T1 y T2, asegurando que estén en el rango [1000, 4000]\n",
    "    T1 = 1000 * (1 + 3 * p[2])\n",
    "    T2 = 1000 * (1 + 3 * p[3])\n",
    "    \n",
    "    # Calculamos la intensidad usando la ley de Planck modificada\n",
    "    y = w1 / (np.exp(h * nu / (kB * T1)) - 1) + w2 / (np.exp(h * nu / (kB * T2)) - 1)\n",
    "    \n",
    "    # Multiplicar por nu^3 para completar la expresión de la intensidad\n",
    "    return y * nu**3"
   ]
  },
  {
   "cell_type": "code",
   "execution_count": 12,
   "id": "97bcc89c",
   "metadata": {},
   "outputs": [],
   "source": [
    "def scale_Factor(data, model):\n",
    "    # Calcular el factor de escala para ajustar la magnitud del modelo\n",
    "    return np.sum(data * model) / np.sum(model * model)"
   ]
  },
  {
   "cell_type": "code",
   "execution_count": 13,
   "id": "44f74ae2",
   "metadata": {},
   "outputs": [],
   "source": [
    "# Definimos nuestra loss function que nos calcula el error cuadrático entre los datos y el modelo.\n",
    "def loss_Function(data, model):\n",
    "    A = scale_Factor(data, model)  # Factor de escala para ajustar la magnitud del modelo\n",
    "    return np.sum((data - A*model) ** 2)"
   ]
  },
  {
   "cell_type": "code",
   "execution_count": 14,
   "id": "106acaba",
   "metadata": {},
   "outputs": [],
   "source": [
    "# Definimos una función para calcular el error del modelo que se usará en la optimización\n",
    "def model_error(p, nu, data):\n",
    "    # Calcula la intensidad usando la función planckian con los parámetros actuales\n",
    "    model = planckian(nu, p)\n",
    "    # Calcula la función de pérdida para medir la discrepancia entre los datos y el modelo\n",
    "    loss = loss_Function(data, model)\n",
    "    return loss"
   ]
  },
  {
   "cell_type": "code",
   "execution_count": 15,
   "id": "2bbcbdce",
   "metadata": {},
   "outputs": [],
   "source": [
    "from scipy.optimize import minimize # Importamos la función minimize de scipy"
   ]
  },
  {
   "cell_type": "code",
   "execution_count": 16,
   "id": "df6f4b41",
   "metadata": {},
   "outputs": [],
   "source": [
    "import random as rd # Para generar los parametros iniciales de manera aleatoria"
   ]
  },
  {
   "cell_type": "code",
   "execution_count": 17,
   "id": "51bc7f82",
   "metadata": {},
   "outputs": [],
   "source": [
    "# Valores iniciales para los parámetros que vamos a calcular\n",
    "w1_guess=rd.random()\n",
    "w2_guess=rd.random()\n",
    "T1_guess=rd.random()\n",
    "T2_guess=rd.random()\n",
    "p_guess = [w1_guess, w2_guess, T1_guess, T2_guess]"
   ]
  },
  {
   "cell_type": "code",
   "execution_count": 18,
   "id": "894d00df",
   "metadata": {},
   "outputs": [
    {
     "name": "stdout",
     "output_type": "stream",
     "text": [
      "Parámetros optimizados: [0.2584523  0.18585637 0.06353276 0.64710659]\n"
     ]
    }
   ],
   "source": [
    "# Ejecutamos la optimización utilizando el método Nelder-Mead de la función de scipy\n",
    "result = minimize(model_error, p_guess, args=(frequency, intensity_normalized), method='Nelder-Mead')\n",
    "\n",
    "# Extraemos los parámetros optimizados\n",
    "optimized_p = result.x\n",
    "print(\"Parámetros optimizados:\", optimized_p)"
   ]
  },
  {
   "cell_type": "code",
   "execution_count": 19,
   "id": "a523166e",
   "metadata": {},
   "outputs": [],
   "source": [
    "# Calcular la intensidad ajustada con los parámetros optimizados y normalizar\n",
    "I_optimized = planckian(frequency, optimized_p)\n",
    "I_optimized_normalized = I_optimized / np.max(I_optimized)"
   ]
  },
  {
   "cell_type": "code",
   "execution_count": 20,
   "id": "59662a76",
   "metadata": {},
   "outputs": [
    {
     "data": {
      "image/png": "[encoded data removed]",
      "text/plain": [
       "<Figure size 640x480 with 1 Axes>"
      ]
     },
     "metadata": {},
     "output_type": "display_data"
    }
   ],
   "source": [
    "# Graficamos los resultados normalizados para comparar\n",
    "plt.plot(frequency, intensity_normalized, label='Data')\n",
    "plt.plot(frequency, I_optimized_normalized, label='Model', linestyle='--')\n",
    "plt.xlabel('Frequency')\n",
    "plt.ylabel('Normalized Intensity')\n",
    "plt.legend()\n",
    "plt.show()"
   ]
  },
  {
   "cell_type": "code",
   "execution_count": 21,
   "id": "08254318",
   "metadata": {},
   "outputs": [
    {
     "name": "stdout",
     "output_type": "stream",
     "text": [
      "Parameters\n",
      "w1 = 0.5816953848892474, w2 = 0.4183046151107525\n",
      "T1 = 1190.5982670801518 K, T2 = 2941.319769519296 K\n"
     ]
    }
   ],
   "source": [
    "# Extraemos los parámetros optimizados\n",
    "w1, w2, T1, T2 = optimized_p\n",
    "\n",
    "# Normalizamos los pesos w1 y w2 (obtendremos los valores deseados)\n",
    "dummy = w1 + w2\n",
    "w1 = w1 / dummy\n",
    "w2= w2 / dummy\n",
    "\n",
    "# Calcular las temperaturas T1 y T2 (obtendremos los valores deseados)\n",
    "T1 = 1000 * (1 + 3 * T1)\n",
    "T2 = 1000 * (1 + 3 * T2)\n",
    "\n",
    "# Mostrar los resultados\n",
    "print(\"Parameters\")\n",
    "print(f\"w1 = {w1}, w2 = {w2}\")\n",
    "print(f\"T1 = {T1} K, T2 = {T2} K\")"
   ]
  },
  {
   "cell_type": "code",
   "execution_count": null,
   "id": "878d38ab",
   "metadata": {},
   "outputs": [],
   "source": []
  }
 ],
 "metadata": {
  "kernelspec": {
   "display_name": "Python 3 (ipykernel)",
   "language": "python",
   "name": "python3"
  },
  "language_info": {
   "codemirror_mode": {
    "name": "ipython",
    "version": 3
   },
   "file_extension": ".py",
   "mimetype": "text/x-python",
   "name": "python",
   "nbconvert_exporter": "python",
   "pygments_lexer": "ipython3",
   "version": "3.11.5"
  }
 },
 "nbformat": 4,
 "nbformat_minor": 5
}
